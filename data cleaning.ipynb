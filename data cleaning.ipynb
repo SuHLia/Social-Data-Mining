{
 "cells": [
  {
   "cell_type": "code",
   "execution_count": 1,
   "metadata": {},
   "outputs": [],
   "source": [
    "import pandas as pd"
   ]
  },
  {
   "cell_type": "code",
   "execution_count": 2,
   "metadata": {},
   "outputs": [],
   "source": [
    "df = pd.read_csv('Github_comment_data_update.csv')"
   ]
  },
  {
   "cell_type": "code",
   "execution_count": 10,
   "metadata": {},
   "outputs": [
    {
     "data": {
      "text/plain": [
       "repos_id                    58\n",
       "repos_name                  58\n",
       "repos_language              11\n",
       "repos_watchers_count        56\n",
       "repos_openIssue_count       49\n",
       "repos_forks_count           53\n",
       "branches_count               1\n",
       "issue_id                   857\n",
       "issue_title                857\n",
       "labels                     393\n",
       "comments_number            114\n",
       "comments_id              12675\n",
       "comments                 12050\n",
       "comments_createdtime     12567\n",
       "user_id                   4124\n",
       "user_name                 3338\n",
       "user_image_url            4124\n",
       "user_location             1192\n",
       "user_public_repos          277\n",
       "user_followers             446\n",
       "user_following             211\n",
       "user_createdtime          4124\n",
       "user_updatedtime          4119\n",
       "dtype: int64"
      ]
     },
     "execution_count": 10,
     "metadata": {},
     "output_type": "execute_result"
    }
   ],
   "source": [
    "df.nunique()"
   ]
  },
  {
   "cell_type": "code",
   "execution_count": 4,
   "metadata": {},
   "outputs": [
    {
     "data": {
      "text/plain": [
       "repos_id                    1\n",
       "repos_name                  1\n",
       "repos_language              6\n",
       "repos_watchers_count        1\n",
       "repos_openIssue_count       1\n",
       "repos_forks_count           1\n",
       "branches_count              1\n",
       "issue_id                    1\n",
       "issue_title                 1\n",
       "labels                   2506\n",
       "comments_number             1\n",
       "comments_id                 1\n",
       "comments                    1\n",
       "comments_createdtime        6\n",
       "user_id                     7\n",
       "user_name                1923\n",
       "user_image_url              7\n",
       "user_location            4372\n",
       "user_public_repos           7\n",
       "user_followers              7\n",
       "user_following              7\n",
       "user_createdtime            7\n",
       "user_updatedtime            7\n",
       "dtype: int64"
      ]
     },
     "execution_count": 4,
     "metadata": {},
     "output_type": "execute_result"
    }
   ],
   "source": [
    "df.isnull().sum()"
   ]
  },
  {
   "cell_type": "code",
   "execution_count": 5,
   "metadata": {},
   "outputs": [],
   "source": [
    "df.dropna(subset=['repos_id', 'issue_id', 'comments_id', 'user_id'], inplace = True)"
   ]
  },
  {
   "cell_type": "code",
   "execution_count": 6,
   "metadata": {},
   "outputs": [
    {
     "data": {
      "text/plain": [
       "repos_id                    0\n",
       "repos_name                  0\n",
       "repos_language              5\n",
       "repos_watchers_count        0\n",
       "repos_openIssue_count       0\n",
       "repos_forks_count           0\n",
       "branches_count              0\n",
       "issue_id                    0\n",
       "issue_title                 0\n",
       "labels                   2503\n",
       "comments_number             0\n",
       "comments_id                 0\n",
       "comments                    0\n",
       "comments_createdtime        0\n",
       "user_id                     0\n",
       "user_name                1916\n",
       "user_image_url              0\n",
       "user_location            4365\n",
       "user_public_repos           0\n",
       "user_followers              0\n",
       "user_following              0\n",
       "user_createdtime            0\n",
       "user_updatedtime            0\n",
       "dtype: int64"
      ]
     },
     "execution_count": 6,
     "metadata": {},
     "output_type": "execute_result"
    }
   ],
   "source": [
    "df.isnull().sum()"
   ]
  },
  {
   "cell_type": "code",
   "execution_count": 8,
   "metadata": {},
   "outputs": [
    {
     "data": {
      "text/plain": [
       "(12675, 23)"
      ]
     },
     "execution_count": 8,
     "metadata": {},
     "output_type": "execute_result"
    }
   ],
   "source": [
    "df.shape"
   ]
  },
  {
   "cell_type": "code",
   "execution_count": 9,
   "metadata": {},
   "outputs": [],
   "source": [
    "df.to_csv('Github_comment_data_update_clean.csv', index = False)"
   ]
  },
  {
   "cell_type": "code",
   "execution_count": null,
   "metadata": {},
   "outputs": [],
   "source": []
  }
 ],
 "metadata": {
  "kernelspec": {
   "display_name": "Python 3",
   "language": "python",
   "name": "python3"
  },
  "language_info": {
   "codemirror_mode": {
    "name": "ipython",
    "version": 3
   },
   "file_extension": ".py",
   "mimetype": "text/x-python",
   "name": "python",
   "nbconvert_exporter": "python",
   "pygments_lexer": "ipython3",
   "version": "3.6.8"
  }
 },
 "nbformat": 4,
 "nbformat_minor": 2
}
