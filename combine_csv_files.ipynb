{
 "cells": [
  {
   "cell_type": "code",
   "execution_count": 13,
   "metadata": {},
   "outputs": [
    {
     "name": "stdout",
     "output_type": "stream",
     "text": [
      "C:\\Users\\Suhong Liang\\Desktop\\BDAT\\1007 Social Data Mining\\10-20-githubdata\\github_angular.csv has been imported.\n",
      "C:\\Users\\Suhong Liang\\Desktop\\BDAT\\1007 Social Data Mining\\10-20-githubdata\\github_ansible.csv has been imported.\n",
      "C:\\Users\\Suhong Liang\\Desktop\\BDAT\\1007 Social Data Mining\\10-20-githubdata\\github_DefinitelyTyped.csv has been imported.\n",
      "C:\\Users\\Suhong Liang\\Desktop\\BDAT\\1007 Social Data Mining\\10-20-githubdata\\github_Facebook.csv has been imported.\n",
      "C:\\Users\\Suhong Liang\\Desktop\\BDAT\\1007 Social Data Mining\\10-20-githubdata\\github_kubernetes.csv has been imported.\n",
      "C:\\Users\\Suhong Liang\\Desktop\\BDAT\\1007 Social Data Mining\\10-20-githubdata\\github_Microsoft.csv has been imported.\n",
      "C:\\Users\\Suhong Liang\\Desktop\\BDAT\\1007 Social Data Mining\\10-20-githubdata\\github_Tensorflow.csv has been imported.\n"
     ]
    }
   ],
   "source": [
    "import shutil\n",
    "import glob\n",
    "\n",
    "#import csv files from folder\n",
    "path = r'C:\\Users\\Suhong Liang\\Desktop\\BDAT\\1007 Social Data Mining\\10-20-githubdata'\n",
    "allFiles = glob.glob(path + \"/*.csv\")\n",
    "with open('Github_comment_data_update.csv', 'wb') as outfile:\n",
    "    for i, fname in enumerate(allFiles):\n",
    "        with open(fname, 'rb') as infile:\n",
    "            if i != 0:\n",
    "                infile.readline()  # Throw away header on all but first file\n",
    "            # Block copy rest of file from input to output without parsing\n",
    "            shutil.copyfileobj(infile, outfile)\n",
    "            print(fname + \" has been imported.\")"
   ]
  },
  {
   "cell_type": "code",
   "execution_count": 1,
   "metadata": {},
   "outputs": [
    {
     "name": "stdout",
     "output_type": "stream",
     "text": [
      "C:\\Users\\Suhong Liang\\Desktop\\BDAT\\1006 Data Visialization\\Final Project_V2\\sentiment datasets\\CAvideos.csv-sentiment-output-titles.csv has been imported.\n",
      "C:\\Users\\Suhong Liang\\Desktop\\BDAT\\1006 Data Visialization\\Final Project_V2\\sentiment datasets\\DEvideos.csv-sentiment-output-titles.csv has been imported.\n",
      "C:\\Users\\Suhong Liang\\Desktop\\BDAT\\1006 Data Visialization\\Final Project_V2\\sentiment datasets\\FRvideos.csv-sentiment-output-titles.csv has been imported.\n",
      "C:\\Users\\Suhong Liang\\Desktop\\BDAT\\1006 Data Visialization\\Final Project_V2\\sentiment datasets\\GBvideos.csv-sentiment-output-titles.csv has been imported.\n",
      "C:\\Users\\Suhong Liang\\Desktop\\BDAT\\1006 Data Visialization\\Final Project_V2\\sentiment datasets\\USvideos.csv-sentiment-output-titles.csv has been imported.\n"
     ]
    }
   ],
   "source": [
    "import shutil\n",
    "import glob\n",
    "\n",
    "#import csv files from folder\n",
    "path = r'C:\\Users\\Suhong Liang\\Desktop\\BDAT\\1006 Data Visialization\\Final Project_V2\\sentiment datasets'\n",
    "allFiles = glob.glob(path + \"/*.csv\")\n",
    "with open('sentiment_data.csv', 'wb') as outfile:\n",
    "    for i, fname in enumerate(allFiles):\n",
    "        with open(fname, 'rb') as infile:\n",
    "            if i != 0:\n",
    "                infile.readline()  # Throw away header on all but first file\n",
    "            # Block copy rest of file from input to output without parsing\n",
    "            shutil.copyfileobj(infile, outfile)\n",
    "            print(fname + \" has been imported.\")"
   ]
  },
  {
   "cell_type": "code",
   "execution_count": 1,
   "metadata": {},
   "outputs": [],
   "source": [
    "import pandas as pd"
   ]
  },
  {
   "cell_type": "code",
   "execution_count": 2,
   "metadata": {},
   "outputs": [],
   "source": [
    "df = pd.read_csv('Github_comment_data_update_clean.csv')"
   ]
  },
  {
   "cell_type": "code",
   "execution_count": null,
   "metadata": {},
   "outputs": [],
   "source": [
    "def To_time(time):\n",
    "    DateTimeFormatter inputFormatter = DateTimeFormatter.ofPattern(\"yyyy-MM-dd'T'HH:mm:ss.SSS'Z'\", Locale.ENGLISH);\n",
    "    DateTimeFormatter outputFormatter = DateTimeFormatter.ofPattern(\"dd-MM-yyy\", Locale.ENGLISH);\n",
    "    LocalDate date = LocalDate.parse(time, inputFormatter);\n",
    "    String formattedDate = outputFormatter.format(date);\n",
    "    System.out.println(formattedDate); // prints 10-04-2018"
   ]
  }
 ],
 "metadata": {
  "kernelspec": {
   "display_name": "Python 3",
   "language": "python",
   "name": "python3"
  },
  "language_info": {
   "codemirror_mode": {
    "name": "ipython",
    "version": 3
   },
   "file_extension": ".py",
   "mimetype": "text/x-python",
   "name": "python",
   "nbconvert_exporter": "python",
   "pygments_lexer": "ipython3",
   "version": "3.6.8"
  }
 },
 "nbformat": 4,
 "nbformat_minor": 2
}
